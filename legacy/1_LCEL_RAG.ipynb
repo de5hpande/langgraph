{
 "cells": [
  {
   "cell_type": "code",
   "execution_count": 1,
   "metadata": {},
   "outputs": [
    {
     "data": {
      "text/plain": [
       "True"
      ]
     },
     "execution_count": 1,
     "metadata": {},
     "output_type": "execute_result"
    }
   ],
   "source": [
    "import os\n",
    "from dotenv import load_dotenv\n",
    "load_dotenv()"
   ]
  },
  {
   "cell_type": "code",
   "execution_count": 2,
   "metadata": {},
   "outputs": [],
   "source": [
    "GOOGLE_API_KEY=os.getenv(\"GOOGLE_API_KEY\")\n",
    "TAVILY_API_KEY=os.getenv(\"TAVILY_API_KEY\")\n",
    "GROQ_API_KEY=os.getenv(\"GROQ_API_KEY\")\n",
    "LANGCHAIN_API_KEY=os.getenv(\"LANGCHAIN_API_KEY\")\n",
    "LANGCHAIN_PROJECT=os.getenv(\"LANGCHAIN_PROJECT\")"
   ]
  },
  {
   "cell_type": "code",
   "execution_count": 3,
   "metadata": {},
   "outputs": [
    {
     "data": {
      "text/plain": [
       "'langgraph'"
      ]
     },
     "execution_count": 3,
     "metadata": {},
     "output_type": "execute_result"
    }
   ],
   "source": [
    "LANGCHAIN_PROJECT"
   ]
  },
  {
   "cell_type": "code",
   "execution_count": 4,
   "metadata": {},
   "outputs": [],
   "source": [
    "os.environ[\"GOOGLE_API_KEY\"] = GOOGLE_API_KEY\n",
    "os.environ[\"TAVILY_API_KEY\"] = TAVILY_API_KEY\n",
    "os.environ[\"GROQ_API_KEY\"]= GROQ_API_KEY\n",
    "os.environ[\"LANGCHAIN_API_KEY\"] = LANGCHAIN_API_KEY\n",
    "os.environ[\"LANGCHAIN_TRACING_V2\"] = \"true\"\n",
    "os.environ[\"LANGCHAIN_ENDPOINT\"] = \"https://api.smith.langchain.com\"\n",
    "os.environ[\"LANGCHAIN_PROJECT\"]=LANGCHAIN_PROJECT"
   ]
  },
  {
   "cell_type": "code",
   "execution_count": 5,
   "metadata": {},
   "outputs": [
    {
     "name": "stderr",
     "output_type": "stream",
     "text": [
      "d:\\tmp\\venv\\lib\\site-packages\\tqdm\\auto.py:21: TqdmWarning: IProgress not found. Please update jupyter and ipywidgets. See https://ipywidgets.readthedocs.io/en/stable/user_install.html\n",
      "  from .autonotebook import tqdm as notebook_tqdm\n"
     ]
    }
   ],
   "source": [
    "from langchain_google_genai import GoogleGenerativeAIEmbeddings\n",
    "embeddings = GoogleGenerativeAIEmbeddings(model=\"models/embedding-001\")\n",
    "from langchain_google_genai import ChatGoogleGenerativeAI\n",
    "llm = ChatGoogleGenerativeAI(model=\"gemini-1.0-pro\")"
   ]
  },
  {
   "cell_type": "code",
   "execution_count": 6,
   "metadata": {},
   "outputs": [],
   "source": [
    "'''from langchain_huggingface import HuggingFaceEmbeddings\n",
    "embeddings=HuggingFaceEmbeddings(model_name=\"all-MiniLM-L6-v2\")'''\n",
    "from langchain_groq import ChatGroq\n",
    "import os\n",
    "llm=ChatGroq(model_name=\"Gemma2-9b-It\")"
   ]
  },
  {
   "cell_type": "code",
   "execution_count": 7,
   "metadata": {},
   "outputs": [],
   "source": [
    "answer=llm.invoke(\"Hello, how are you?\")"
   ]
  },
  {
   "cell_type": "code",
   "execution_count": 8,
   "metadata": {},
   "outputs": [
    {
     "data": {
      "text/plain": [
       "\"As an AI, I don't have feelings, but I'm here and ready to assist you! How can I help you today?\\n\""
      ]
     },
     "execution_count": 8,
     "metadata": {},
     "output_type": "execute_result"
    }
   ],
   "source": [
    "answer.content"
   ]
  },
  {
   "cell_type": "markdown",
   "metadata": {},
   "source": [
    "# Simple AI Assistant"
   ]
  },
  {
   "cell_type": "code",
   "execution_count": 9,
   "metadata": {},
   "outputs": [
    {
     "name": "stdout",
     "output_type": "stream",
     "text": [
      "Hello! 👋\n",
      "\n",
      "How can I help you today? 😊\n",
      "\n",
      "goodbye take care yourself\n"
     ]
    }
   ],
   "source": [
    "while True:\n",
    "    question=input(\"type your question. if you want to quit the chat write quit\")\n",
    "    if question !=\"quit\":\n",
    "        print(llm.invoke(question).content)\n",
    "    else:\n",
    "        print(\"goodbye take care yourself\")\n",
    "        break"
   ]
  },
  {
   "cell_type": "code",
   "execution_count": 10,
   "metadata": {},
   "outputs": [],
   "source": [
    "from langchain_core.chat_history import BaseChatMessageHistory\n",
    "from langchain_core.chat_history import InMemoryChatMessageHistory\n",
    "from langchain_core.runnables.history import RunnableWithMessageHistory\n",
    "from langchain_core.messages import AIMessage"
   ]
  },
  {
   "cell_type": "code",
   "execution_count": 11,
   "metadata": {},
   "outputs": [],
   "source": [
    "store={}"
   ]
  },
  {
   "cell_type": "code",
   "execution_count": 12,
   "metadata": {},
   "outputs": [],
   "source": [
    "def get_session_history(session_id: str) -> BaseChatMessageHistory:\n",
    "    if session_id not in store:\n",
    "        store[session_id] = InMemoryChatMessageHistory()\n",
    "    return store[session_id]"
   ]
  },
  {
   "cell_type": "code",
   "execution_count": 13,
   "metadata": {},
   "outputs": [],
   "source": [
    "config = {\"configurable\": {\"session_id\": \"firstchat\"}}"
   ]
  },
  {
   "cell_type": "code",
   "execution_count": 14,
   "metadata": {},
   "outputs": [],
   "source": [
    "model_with_memory=RunnableWithMessageHistory(llm,get_session_history)"
   ]
  },
  {
   "cell_type": "code",
   "execution_count": 15,
   "metadata": {},
   "outputs": [
    {
     "data": {
      "text/plain": [
       "'Hi Rishabh! 👋\\n\\nNice to meet you. What can I do for you today? 😊  \\n'"
      ]
     },
     "execution_count": 15,
     "metadata": {},
     "output_type": "execute_result"
    }
   ],
   "source": [
    "model_with_memory.invoke((\"Hi! I'm rishabh\"),config=config).content"
   ]
  },
  {
   "cell_type": "code",
   "execution_count": 16,
   "metadata": {},
   "outputs": [
    {
     "data": {
      "text/plain": [
       "'Your name is Rishabh, as you told me earlier.  😄  \\n\\nIs there anything else I can help you with?\\n'"
      ]
     },
     "execution_count": 16,
     "metadata": {},
     "output_type": "execute_result"
    }
   ],
   "source": [
    "model_with_memory.invoke((\"what is my name\"),config=config).content"
   ]
  },
  {
   "cell_type": "code",
   "execution_count": 17,
   "metadata": {},
   "outputs": [
    {
     "data": {
      "text/plain": [
       "{'firstchat': InMemoryChatMessageHistory(messages=[HumanMessage(content=\"Hi! I'm rishabh\", additional_kwargs={}, response_metadata={}), AIMessage(content='Hi Rishabh! 👋\\n\\nNice to meet you. What can I do for you today? 😊  \\n', additional_kwargs={}, response_metadata={'token_usage': {'completion_tokens': 25, 'prompt_tokens': 17, 'total_tokens': 42, 'completion_time': 0.045454545, 'prompt_time': 0.001925106, 'queue_time': 0.237414821, 'total_time': 0.047379651}, 'model_name': 'Gemma2-9b-It', 'system_fingerprint': 'fp_10c08bf97d', 'finish_reason': 'stop', 'logprobs': None}, id='run-a4c1ef77-1729-45d6-909d-285516ae75ec-0', usage_metadata={'input_tokens': 17, 'output_tokens': 25, 'total_tokens': 42}), HumanMessage(content='what is my name', additional_kwargs={}, response_metadata={}), AIMessage(content='Your name is Rishabh, as you told me earlier.  😄  \\n\\nIs there anything else I can help you with?\\n', additional_kwargs={}, response_metadata={'token_usage': {'completion_tokens': 30, 'prompt_tokens': 54, 'total_tokens': 84, 'completion_time': 0.054545455, 'prompt_time': 0.003632391, 'queue_time': 0.236287065, 'total_time': 0.058177846}, 'model_name': 'Gemma2-9b-It', 'system_fingerprint': 'fp_10c08bf97d', 'finish_reason': 'stop', 'logprobs': None}, id='run-78b149c3-387b-47f8-ab75-e32a7100e78b-0', usage_metadata={'input_tokens': 54, 'output_tokens': 30, 'total_tokens': 84})])}"
      ]
     },
     "execution_count": 17,
     "metadata": {},
     "output_type": "execute_result"
    }
   ],
   "source": [
    "store"
   ]
  },
  {
   "cell_type": "markdown",
   "metadata": {},
   "source": [
    "# RAG with LCEL"
   ]
  },
  {
   "cell_type": "code",
   "execution_count": 18,
   "metadata": {},
   "outputs": [],
   "source": [
    "from langchain_community.document_loaders import TextLoader, DirectoryLoader\n",
    "from langchain.text_splitter import RecursiveCharacterTextSplitter\n",
    "from langchain_community.vectorstores import Chroma\n",
    "from langchain import PromptTemplate\n",
    "from langchain_core.runnables import RunnableParallel, RunnablePassthrough , RunnableLambda\n",
    "from langchain_core.output_parsers import StrOutputParser"
   ]
  },
  {
   "cell_type": "code",
   "execution_count": 28,
   "metadata": {},
   "outputs": [],
   "source": [
    "### Reading the txt files from source directory\n",
    "\n",
    "loader = DirectoryLoader('../data', glob=\"./*.txt\", loader_cls=TextLoader)\n",
    "docs = loader.load()\n",
    "\n",
    "### Creating Chunks using RecursiveCharacterTextSplitter\n",
    "\n",
    "text_splitter = RecursiveCharacterTextSplitter(\n",
    "    chunk_size=50,\n",
    "    chunk_overlap=10,\n",
    "    length_function=len\n",
    ")\n",
    "new_docs = text_splitter.split_documents(documents=docs)\n",
    "doc_strings = [doc.page_content for doc in new_docs]\n",
    "\n",
    "###  BGE Embddings\n",
    "\n",
    "'''from langchain.embeddings import HuggingFaceBgeEmbeddings\n",
    "\n",
    "model_name = \"BAAI/bge-base-en-v1.5\"\n",
    "model_kwargs = {'device': 'cpu'}\n",
    "encode_kwargs = {'normalize_embeddings': True} # set True to compute cosine similarity\n",
    "embeddings = HuggingFaceBgeEmbeddings(\n",
    "    model_name=model_name,\n",
    "    model_kwargs=model_kwargs,\n",
    "    encode_kwargs=encode_kwargs,\n",
    ")\n",
    "'''\n",
    "\n",
    "### Creating Retriever using Vector DB\n",
    "\n",
    "db = Chroma.from_documents(new_docs, embeddings)\n",
    "retriever = db.as_retriever(search_kwargs={\"k\": 4})"
   ]
  },
  {
   "cell_type": "code",
   "execution_count": 29,
   "metadata": {},
   "outputs": [
    {
     "data": {
      "text/plain": [
       "[Document(metadata={'source': '..\\\\data\\\\sample.txt'}, page_content='Dr. A.P.J. Abdul Kalam, known as the \"Missile Man'),\n",
       " Document(metadata={'source': '..\\\\data\\\\sample.txt'}, page_content='Dr. Kalam passed away on July 27, 2015, while'),\n",
       " Document(metadata={'source': '..\\\\data\\\\sample.txt'}, page_content=\"committed to the nation's progress. Dr. Kalam\"),\n",
       " Document(metadata={'source': '..\\\\data\\\\sample.txt'}, page_content='visionary leader, and the 11th President of India')]"
      ]
     },
     "execution_count": 29,
     "metadata": {},
     "output_type": "execute_result"
    }
   ],
   "source": [
    "retriever.invoke(\"who is apj abdul kalam\")"
   ]
  },
  {
   "cell_type": "code",
   "execution_count": 30,
   "metadata": {},
   "outputs": [],
   "source": [
    "template = \"\"\"Answer the question based only on the following context:\n",
    "{context}\n",
    "\n",
    "Question: {question}\n",
    "\"\"\"\n",
    "prompt = PromptTemplate.from_template(template)"
   ]
  },
  {
   "cell_type": "code",
   "execution_count": 31,
   "metadata": {},
   "outputs": [],
   "source": [
    "\n",
    "retrieval_chain = (\n",
    "    RunnableParallel({\"context\": retriever, \"question\": RunnablePassthrough()})\n",
    "    | prompt\n",
    "    | llm\n",
    "    | StrOutputParser()\n",
    "    )"
   ]
  },
  {
   "cell_type": "code",
   "execution_count": 33,
   "metadata": {},
   "outputs": [
    {
     "name": "stdout",
     "output_type": "stream",
     "text": [
      "Here are three important points about A.P.J. Abdul Kalam based on the provided text:\n",
      "\n",
      "1. **Known as the \"Missile Man\":** This nickname suggests Kalam played a significant role in India's missile development program. \n",
      "2. **Committed to the nation's progress:**  This indicates Kalam was a dedicated public servant focused on improving India.\n",
      "3. **11th President of India:** This highlights Kalam's highest political achievement and his role as a leader in Indian government. \n",
      "\n",
      "\n",
      "\n"
     ]
    }
   ],
   "source": [
    "question =\"who is apj abdul kalam and can you highlight 3 important points about him\"\n",
    "print(retrieval_chain.invoke(question))"
   ]
  },
  {
   "cell_type": "markdown",
   "metadata": {},
   "source": [
    "# Let's Start with Tools and Agents"
   ]
  },
  {
   "cell_type": "code",
   "execution_count": 34,
   "metadata": {},
   "outputs": [],
   "source": [
    "from langchain_community.tools import WikipediaQueryRun\n",
    "from langchain_community.utilities import WikipediaAPIWrapper"
   ]
  },
  {
   "cell_type": "code",
   "execution_count": 35,
   "metadata": {},
   "outputs": [],
   "source": [
    "api_wrapper=WikipediaAPIWrapper()"
   ]
  },
  {
   "cell_type": "code",
   "execution_count": 36,
   "metadata": {},
   "outputs": [],
   "source": [
    "tool=WikipediaQueryRun(api_wrapper=api_wrapper)"
   ]
  },
  {
   "cell_type": "code",
   "execution_count": 37,
   "metadata": {},
   "outputs": [
    {
     "data": {
      "text/plain": [
       "'wikipedia'"
      ]
     },
     "execution_count": 37,
     "metadata": {},
     "output_type": "execute_result"
    }
   ],
   "source": [
    "tool.name"
   ]
  },
  {
   "cell_type": "code",
   "execution_count": 38,
   "metadata": {},
   "outputs": [
    {
     "data": {
      "text/plain": [
       "'A wrapper around Wikipedia. Useful for when you need to answer general questions about people, places, companies, facts, historical events, or other subjects. Input should be a search query.'"
      ]
     },
     "execution_count": 38,
     "metadata": {},
     "output_type": "execute_result"
    }
   ],
   "source": [
    "tool.description"
   ]
  },
  {
   "cell_type": "code",
   "execution_count": 39,
   "metadata": {},
   "outputs": [
    {
     "data": {
      "text/plain": [
       "{'query': {'description': 'query to look up on wikipedia',\n",
       "  'title': 'Query',\n",
       "  'type': 'string'}}"
      ]
     },
     "execution_count": 39,
     "metadata": {},
     "output_type": "execute_result"
    }
   ],
   "source": [
    "tool.args"
   ]
  },
  {
   "cell_type": "code",
   "execution_count": 40,
   "metadata": {},
   "outputs": [
    {
     "name": "stdout",
     "output_type": "stream",
     "text": [
      "Page: LangChain\n",
      "Summary: LangChain is a software framework that helps facilitate the integration of large language models (LLMs) into applications. As a language model integration framework, LangChain's use-cases largely overlap with those of language models in general, including document analysis and summarization, chatbots, and code analysis.\n",
      "\n",
      "\n",
      "\n",
      "Page: Retrieval-augmented generation\n",
      "Summary: Retrieval-augmented generation (RAG) is a technique that enables generative artificial intelligence (Gen AI) models to retrieve and incorporate new information. It modifies interactions with a large language model (LLM) so that the model responds to user queries with reference to a specified set of documents, using this information to supplement information from its pre-existing training data. This allows LLMs to use domain-specific and/or updated information.  Use cases include providing chatbot access to internal company data or generating responses based on authoritative sources.\n",
      "RAG improves large language models (LLMs) by incorporating information retrieval before generating responses. Unlike traditional LLMs that rely on static training data, RAG pulls relevant text from databases, uploaded documents, or web sources. According to Ars Technica, \"RAG is a way of improving LLM performance, in essence by blending the LLM process with a web search or other document look-up process to help LLMs stick to the facts.\" This method helps reduce AI hallucinations, which have led to real-world issues like chatbots inventing policies or lawyers citing nonexistent legal cases. By dynamically retrieving information, RAG enables AI to provide more accurate responses without frequent retraining.\n",
      "\n",
      "\n",
      "\n",
      "Page: Milvus (vector database)\n",
      "Summary: Milvus is a distributed vector database developed by Zilliz. It is available as both open-source software and a cloud service.\n",
      "Milvus is an open-source project under LF AI & Data Foundation distributed under the Apache License 2.0.\n"
     ]
    }
   ],
   "source": [
    "print(tool.run({\"query\": \"langchain\"}))"
   ]
  },
  {
   "cell_type": "code",
   "execution_count": 41,
   "metadata": {},
   "outputs": [],
   "source": [
    "from langchain_community.tools import YouTubeSearchTool"
   ]
  },
  {
   "cell_type": "code",
   "execution_count": 42,
   "metadata": {},
   "outputs": [],
   "source": [
    "tool2=YouTubeSearchTool()"
   ]
  },
  {
   "cell_type": "code",
   "execution_count": 43,
   "metadata": {},
   "outputs": [
    {
     "data": {
      "text/plain": [
       "'youtube_search'"
      ]
     },
     "execution_count": 43,
     "metadata": {},
     "output_type": "execute_result"
    }
   ],
   "source": [
    "tool2.name"
   ]
  },
  {
   "cell_type": "code",
   "execution_count": 45,
   "metadata": {},
   "outputs": [
    {
     "data": {
      "text/plain": [
       "\"['https://www.youtube.com/watch?v=IptC7oeTNkE&pp=ygUWa2FiaXIga2UgZG9oZSBieSBqdWJpbg%3D%3D', 'https://www.youtube.com/watch?v=_FTHYBUGfB8&pp=ygUWa2FiaXIga2UgZG9oZSBieSBqdWJpbg%3D%3D']\""
      ]
     },
     "execution_count": 45,
     "metadata": {},
     "output_type": "execute_result"
    }
   ],
   "source": [
    "tool2.run(\"kabir ke dohe by jubin\")"
   ]
  },
  {
   "cell_type": "code",
   "execution_count": 46,
   "metadata": {},
   "outputs": [],
   "source": [
    "from langchain_community.tools.tavily_search import TavilySearchResults"
   ]
  },
  {
   "cell_type": "code",
   "execution_count": 47,
   "metadata": {},
   "outputs": [],
   "source": [
    "tool3=TavilySearchResults()"
   ]
  },
  {
   "cell_type": "code",
   "execution_count": 48,
   "metadata": {},
   "outputs": [
    {
     "data": {
      "text/plain": [
       "\"Page: 2025 ICC Champions Trophy final\\nSummary: The 2025 ICC Champions Trophy final was a One Day International (ODI) cricket match played at the Dubai International Cricket Stadium on 9 March 2025 to determine the winner of 2025 ICC Champions Trophy. It was played between India and New Zealand. It was the second time that India and New Zealand played a Champions Trophy final against each other, after the 2000 final.\\nNew Zealand won the toss and electing to bat first, they registered a score of 251/7. In the second innings, India managed to chase the score 254/6 and thus India claimed the victory by 4 wickets to win third ICC Champions Trophy title while also becoming the first team to win all their matches and win a ICC Champions Trophy undefeated. Rohit Sharma was named Player of the Match for scoring 76 runs off 83 balls.\\n\\nPage: India national cricket team\\nSummary: The India men's national cricket team, also known as Men in blue, represents India in international cricket. It is governed by the Board of Control for Cricket in India and is a full member nation of the International Cricket Council with Test, ODI and T20I status. India are the current T20 World Champions and Champions Trophy holders. \\nThe team has played 589 Test matches, winning 181, losing 184, with 223 draws and 1 tie. As of November 2024, India is ranked second in the Test Championship on 111 rating points. India have played in two of the three World Test Championship finals, finishing runners-up in 2021 and 2023, while finishing third in 2025.\\nTest rivalries include the Border–Gavaskar Trophy with Australia, Freedom Trophy with South Africa, Anthony de Mello Trophy and Pataudi Trophy both with England.\\nThe team has played 1,066 ODI matches, winning 567, losing 445, tying 10 and with 44 ending in a no-result. As of March 2025, India is ranked first in the ICC ODI Championship on 122 rating points. India have appeared in the World Cup final four times (1983, 2003, 2011, 2023) and won twice in 1983 and 2011. It was the second team, after the West Indies, to win the World Cup, and the first to win the competition on home soil after winning it in 2011. India have also won Champions trophies in 2002, 2013 and 2025. In addition, they have also won the ODI Asia Cup 7 times in 1984, 1988, 1990–91, 1995, 2010, 2018, and 2023.\\nThe team has played 247 Twenty20 International matches, winning 164, losing 71, tying 6 and with 6 ending in a no-result. As of November 2024, India is ranked first in the ICC T20I Championship on 268 rating points. India have won the ICC Men's T20 World Cup twice in 2007 and 2024. They have also won the Twenty20 Asia Cup in 2016 and Asian Games in 2022.\\nIndia are the reigning One Day Asian and T20 World Champions, winning the former  in 2023 against Sri Lanka at the R. Premadasa Stadium in Colombo and the latter in 2024 against South Africa at the Kensington Oval in Bridgetown. They are also current Champions Trophy holders, winning it in 2025 against New Zealand.\\n\\nPage: 2025 Women's Premier League (cricket)\\nSummary: The 2025 Women's Premier League (also known as WPL 2025 and branded as TATA WPL 2025) is the third season of the Women's Premier League, a women's franchise Twenty20 cricket league organised by the Board of Control for Cricket in India (BCCI). The tournament, featuring five teams, is being held from 14 February to 15 March 2025. Royal Challengers Bengaluru are the defending champions.\""
      ]
     },
     "execution_count": 48,
     "metadata": {},
     "output_type": "execute_result"
    }
   ],
   "source": [
    "tool.invoke({\"query\": \"who won the cricket champions 2025\"})"
   ]
  },
  {
   "cell_type": "code",
   "execution_count": 49,
   "metadata": {},
   "outputs": [],
   "source": [
    "from langchain.agents import AgentType\n",
    "from langchain.agents import load_tools \n",
    "from langchain.agents import initialize_agent"
   ]
  },
  {
   "cell_type": "code",
   "execution_count": 50,
   "metadata": {},
   "outputs": [],
   "source": [
    "tool=load_tools([\"wikipedia\"],llm=llm)"
   ]
  },
  {
   "cell_type": "code",
   "execution_count": 51,
   "metadata": {},
   "outputs": [
    {
     "name": "stderr",
     "output_type": "stream",
     "text": [
      "C:\\Users\\Pavilion\\AppData\\Local\\Temp\\ipykernel_12932\\2645007812.py:1: LangChainDeprecationWarning: LangChain agents will continue to be supported, but it is recommended for new use cases to be built with LangGraph. LangGraph offers a more flexible and full-featured framework for building agents, including support for tool-calling, persistence of state, and human-in-the-loop workflows. For details, refer to the `LangGraph documentation <https://langchain-ai.github.io/langgraph/>`_ as well as guides for `Migrating from AgentExecutor <https://python.langchain.com/docs/how_to/migrate_agent/>`_ and LangGraph's `Pre-built ReAct agent <https://langchain-ai.github.io/langgraph/how-tos/create-react-agent/>`_.\n",
      "  agent=initialize_agent(tool,llm,agent=AgentType.ZERO_SHOT_REACT_DESCRIPTION,verbose=True)\n"
     ]
    }
   ],
   "source": [
    "agent=initialize_agent(tool,llm,agent=AgentType.ZERO_SHOT_REACT_DESCRIPTION,verbose=True)"
   ]
  },
  {
   "cell_type": "code",
   "execution_count": 52,
   "metadata": {},
   "outputs": [
    {
     "name": "stderr",
     "output_type": "stream",
     "text": [
      "C:\\Users\\Pavilion\\AppData\\Local\\Temp\\ipykernel_12932\\244520442.py:1: LangChainDeprecationWarning: The method `Chain.run` was deprecated in langchain 0.1.0 and will be removed in 1.0. Use :meth:`~invoke` instead.\n",
      "  agent.run(\"who is chhatrapati shivaji maharaj\")\n"
     ]
    },
    {
     "name": "stdout",
     "output_type": "stream",
     "text": [
      "\n",
      "\n",
      "\u001b[1m> Entering new AgentExecutor chain...\u001b[0m\n",
      "\u001b[32;1m\u001b[1;3mThought: I need to look up information about Chhatrapati Shivaji Maharaj on Wikipedia.\n",
      "Action: wikipedia\n",
      "Action Input: Chhatrapati Shivaji Maharaj\u001b[0m\n",
      "Observation: \u001b[36;1m\u001b[1;3mPage: Chhatrapati Shivaji Maharaj International Airport\n",
      "Summary: Chhatrapati Shivaji Maharaj International Airport (IATA: BOM, ICAO: VABB) is the international airport serving Mumbai, the capital of the Indian state of Maharashtra. It is the second busiest airport in India in terms of total and international passenger traffic after Delhi, and was the ninth busiest airport in Asia and 25th busiest airport in the world by passenger traffic in fiscal year 2023–24.\n",
      "The airport is operated by Mumbai International Airport Limited (MIAL), a joint venture between Adani Enterprises, a subsidiary of the Adani Group and Airports Authority of India.\n",
      "The airport is named after Shivaji (1630–1680), 17th-century Chhatrapati of the Maratha Empire. It was renamed in 1999 from the previous \"Sahar Airport\" to \"Chhatrapati Shivaji International Airport\" (the title \"Maharaj\" was inserted on 30 August 2018). It is situated across the suburbs of Santacruz and Sahar Village in Vile Parle East.\n",
      "\n",
      "Page: Shivaji\n",
      "Summary: Shivaji I (Shivaji Shahaji Bhonsale, Marathi pronunciation: [ʃiˈʋaːdʑiː ˈbʱos(ə)le]; c. 19 February 1630 – 3 April 1680) was an Indian ruler and a member of the Bhonsle dynasty. Shivaji carved out his own independent kingdom from the Sultanate of Bijapur that formed the genesis of the Maratha Confederacy. Shivaji I was the founder of the Maratha Empire which later become the Maratha Confederacy.\n",
      "Shivaji offered passage and his service to the Mughal emperor Aurangzeb to invade the declining Sultanate of Bijapur. After Aurangzeb's departure for the north due to a war of succession, Shivaji conquered territories ceded by Bijapur in the name of the Mughals.: 63  Following his defeat at the hands of Jai Singh I in the Battle of Purandar, Shivaji entered into vassalage with the Mughal empire, assuming the role of a Mughal chief and was conferred with the title of Raja by Aurangzeb. He undertook military expeditions on behalf of the Mughal empire for a brief duration. Over the course of his life, Shivaji engaged in both alliances and hostilities with the Mughal Empire, the Sultanate of Golconda, the Sultanate of Bijapur and the European colonial powers.\n",
      "In 1674, Shivaji was crowned as the king despite opposition from local Brahmins.: 87  Praised for his chivalrous treatment of women, Shivaji employed people of all castes and religions, including Muslims and Europeans, in his administration and armed forces. Shivaji's military forces expanded the Maratha sphere of influence, capturing and building forts, and forming a Maratha navy.\n",
      "Shivaji's legacy was revived by Jyotirao Phule about two centuries after his death. Later on, he came to be glorified by Indian nationalists such as Bal Gangadhar Tilak, and appropriated by Hindutva activists.\n",
      "\n",
      "Page: Chhatrapati Shivaji Maharaj Vastu Sangrahalaya\n",
      "Summary: Chhatrapati Shivaji Maharaj Vastu Sangrahalaya, (CSMVS) formerly named the Prince of Wales Museum of Western India, is a museum in Mumbai (Bombay) which documents the history of India from prehistoric to modern times.\n",
      "It was founded during British rule of India in the early years of the 20th century by prominent citizens of the city then called Bombay, with the help of the government, to commemorate the visit of the Prince of Wales (later George V, king of the United Kingdom and emperor of India). It is located in the heart of South Mumbai near the Gateway of India. The museum was renamed in 1998 after Shivaji, the founder of the Maratha Kingdom.\n",
      "The building is built in the Indo-Saracenic style of architecture, incorporating elements of other styles of architecture like the Mughal, Maratha and Jain. The museum building is surrounded by a garden of palm trees and formal flower beds.\n",
      "The museum houses approximately 50,000 exhibits of ancient Indian history as well as objects from foreign lands, categorised primarily into three sections: Art, Archaeology and Natural History. The museum houses Indus Valley Civilization artefacts, and other relics from a\u001b[0m\n",
      "Thought:\u001b[32;1m\u001b[1;3mThought: I need to find more information about Shivaji who was a 17th-century ruler and founder of the Maratha Empire. \n",
      "Action: wikipedia\n",
      "Action Input: Shivaji\u001b[0m\n",
      "Observation: \u001b[36;1m\u001b[1;3mPage: Shivaji\n",
      "Summary: Shivaji I (Shivaji Shahaji Bhonsale, Marathi pronunciation: [ʃiˈʋaːdʑiː ˈbʱos(ə)le]; c. 19 February 1630 – 3 April 1680) was an Indian ruler and a member of the Bhonsle dynasty. Shivaji carved out his own independent kingdom from the Sultanate of Bijapur that formed the genesis of the Maratha Confederacy. Shivaji I was the founder of the Maratha Empire which later become the Maratha Confederacy.\n",
      "Shivaji offered passage and his service to the Mughal emperor Aurangzeb to invade the declining Sultanate of Bijapur. After Aurangzeb's departure for the north due to a war of succession, Shivaji conquered territories ceded by Bijapur in the name of the Mughals.: 63  Following his defeat at the hands of Jai Singh I in the Battle of Purandar, Shivaji entered into vassalage with the Mughal empire, assuming the role of a Mughal chief and was conferred with the title of Raja by Aurangzeb. He undertook military expeditions on behalf of the Mughal empire for a brief duration. Over the course of his life, Shivaji engaged in both alliances and hostilities with the Mughal Empire, the Sultanate of Golconda, the Sultanate of Bijapur and the European colonial powers.\n",
      "In 1674, Shivaji was crowned as the king despite opposition from local Brahmins.: 87  Praised for his chivalrous treatment of women, Shivaji employed people of all castes and religions, including Muslims and Europeans, in his administration and armed forces. Shivaji's military forces expanded the Maratha sphere of influence, capturing and building forts, and forming a Maratha navy.\n",
      "Shivaji's legacy was revived by Jyotirao Phule about two centuries after his death. Later on, he came to be glorified by Indian nationalists such as Bal Gangadhar Tilak, and appropriated by Hindutva activists.\n",
      "\n",
      "Page: Chhatrapati Shivaji Maharaj International Airport\n",
      "Summary: Chhatrapati Shivaji Maharaj International Airport (IATA: BOM, ICAO: VABB) is the international airport serving Mumbai, the capital of the Indian state of Maharashtra. It is the second busiest airport in India in terms of total and international passenger traffic after Delhi, and was the ninth busiest airport in Asia and 25th busiest airport in the world by passenger traffic in fiscal year 2023–24.\n",
      "The airport is operated by Mumbai International Airport Limited (MIAL), a joint venture between Adani Enterprises, a subsidiary of the Adani Group and Airports Authority of India.\n",
      "The airport is named after Shivaji (1630–1680), 17th-century Chhatrapati of the Maratha Empire. It was renamed in 1999 from the previous \"Sahar Airport\" to \"Chhatrapati Shivaji International Airport\" (the title \"Maharaj\" was inserted on 30 August 2018). It is situated across the suburbs of Santacruz and Sahar Village in Vile Parle East.\n",
      "\n",
      "Page: Shivaji II\n",
      "Summary: Shivaji II (Shivaji Bhonsale, Marathi pronunciation: [ʃiˈʋaːdʑiː ˈbʱos(ə)le]; 9 June 1696 – 14 March 1726) was the fourth Chhatrapati of the Maratha Kingdom. He was the son of the Maratha Chhatrapati Rajaram I, and his wife Tarabai. He later became the first Raja of Kolhapur assuming the title as Shivaji Bhonsle I of Kolhapur.\u001b[0m\n",
      "Thought:\u001b[32;1m\u001b[1;3mQuestion: who is chhatrapati shivaji maharaj\n",
      "Thought:Thought: I need to look up information about Chhatrapati Shivaji Maharaj on Wikipedia.\n",
      "Action: wikipedia\n",
      "Action Input: Chhatrapati Shivaji Maharaj\u001b[0m\n",
      "Observation: \u001b[36;1m\u001b[1;3mPage: Chhatrapati Shivaji Maharaj International Airport\n",
      "Summary: Chhatrapati Shivaji Maharaj International Airport (IATA: BOM, ICAO: VABB) is the international airport serving Mumbai, the capital of the Indian state of Maharashtra. It is the second busiest airport in India in terms of total and international passenger traffic after Delhi, and was the ninth busiest airport in Asia and 25th busiest airport in the world by passenger traffic in fiscal year 2023–24.\n",
      "The airport is operated by Mumbai International Airport Limited (MIAL), a joint venture between Adani Enterprises, a subsidiary of the Adani Group and Airports Authority of India.\n",
      "The airport is named after Shivaji (1630–1680), 17th-century Chhatrapati of the Maratha Empire. It was renamed in 1999 from the previous \"Sahar Airport\" to \"Chhatrapati Shivaji International Airport\" (the title \"Maharaj\" was inserted on 30 August 2018). It is situated across the suburbs of Santacruz and Sahar Village in Vile Parle East.\n",
      "\n",
      "Page: Shivaji\n",
      "Summary: Shivaji I (Shivaji Shahaji Bhonsale, Marathi pronunciation: [ʃiˈʋaːdʑiː ˈbʱos(ə)le]; c. 19 February 1630 – 3 April 1680) was an Indian ruler and a member of the Bhonsle dynasty. Shivaji carved out his own independent kingdom from the Sultanate of Bijapur that formed the genesis of the Maratha Confederacy. Shivaji I was the founder of the Maratha Empire which later become the Maratha Confederacy.\n",
      "Shivaji offered passage and his service to the Mughal emperor Aurangzeb to invade the declining Sultanate of Bijapur. After Aurangzeb's departure for the north due to a war of succession, Shivaji conquered territories ceded by Bijapur in the name of the Mughals.: 63  Following his defeat at the hands of Jai Singh I in the Battle of Purandar, Shivaji entered into vassalage with the Mughal empire, assuming the role of a Mughal chief and was conferred with the title of Raja by Aurangzeb. He undertook military expeditions on behalf of the Mughal empire for a brief duration. Over the course of his life, Shivaji engaged in both alliances and hostilities with the Mughal Empire, the Sultanate of Golconda, the Sultanate of Bijapur and the European colonial powers.\n",
      "In 1674, Shivaji was crowned as the king despite opposition from local Brahmins.: 87  Praised for his chivalrous treatment of women, Shivaji employed people of all castes and religions, including Muslims and Europeans, in his administration and armed forces. Shivaji's military forces expanded the Maratha sphere of influence, capturing and building forts, and forming a Maratha navy.\n",
      "Shivaji's legacy was revived by Jyotirao Phule about two centuries after his death. Later on, he came to be glorified by Indian nationalists such as Bal Gangadhar Tilak, and appropriated by Hindutva activists.\n",
      "\n",
      "Page: Chhatrapati Shivaji Maharaj Vastu Sangrahalaya\n",
      "Summary: Chhatrapati Shivaji Maharaj Vastu Sangrahalaya, (CSMVS) formerly named the Prince of Wales Museum of Western India, is a museum in Mumbai (Bombay) which documents the history of India from prehistoric to modern times.\n",
      "It was founded during British rule of India in the early years of the 20th century by prominent citizens of the city then called Bombay, with the help of the government, to commemorate the visit of the Prince of Wales (later George V, king of the United Kingdom and emperor of India). It is located in the heart of South Mumbai near the Gateway of India. The museum was renamed in 1998 after Shivaji, the founder of the Maratha Kingdom.\n",
      "The building is built in the Indo-Saracenic style of architecture, incorporating elements of other styles of architecture like the Mughal, Maratha and Jain. The museum building is surrounded by a garden of palm trees and formal flower beds.\n",
      "The museum houses approximately 50,000 exhibits of ancient Indian history as well as objects from foreign lands, categorised primarily into three sections: Art, Archaeology and Natural History. The museum houses Indus Valley Civilization artefacts, and other relics from a\u001b[0m\n",
      "Thought:\u001b[32;1m\u001b[1;3mThought: I found the relevant information about Chhatrapati Shivaji Maharaj \n",
      "Final Answer: Chhatrapati Shivaji Maharaj (1630-1680) was a 17th-century Indian warrior king and the founder of the Maratha Empire. He is revered as a national hero in India for his courage, military prowess, and his resistance against Mughal rule.\n",
      "\n",
      "\n",
      "\n",
      "\u001b[0m\n",
      "\n",
      "\u001b[1m> Finished chain.\u001b[0m\n"
     ]
    },
    {
     "data": {
      "text/plain": [
       "'Chhatrapati Shivaji Maharaj (1630-1680) was a 17th-century Indian warrior king and the founder of the Maratha Empire. He is revered as a national hero in India for his courage, military prowess, and his resistance against Mughal rule.'"
      ]
     },
     "execution_count": 52,
     "metadata": {},
     "output_type": "execute_result"
    }
   ],
   "source": [
    "agent.run(\"who is chhatrapati shivaji maharaj\")"
   ]
  }
 ],
 "metadata": {
  "kernelspec": {
   "display_name": "Python 3",
   "language": "python",
   "name": "python3"
  },
  "language_info": {
   "codemirror_mode": {
    "name": "ipython",
    "version": 3
   },
   "file_extension": ".py",
   "mimetype": "text/x-python",
   "name": "python",
   "nbconvert_exporter": "python",
   "pygments_lexer": "ipython3",
   "version": "3.10.0"
  }
 },
 "nbformat": 4,
 "nbformat_minor": 2
}
